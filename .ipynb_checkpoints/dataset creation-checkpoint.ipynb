{
 "cells": [
  {
   "cell_type": "code",
   "execution_count": 26,
   "metadata": {},
   "outputs": [
    {
     "name": "stdout",
     "output_type": "stream",
     "text": [
      "[{'instruction': 'Answer the following expression: 7 + 4', 'output': '11'}, {'instruction': 'What is 2 + 1', 'output': '3'}, {'instruction': 'Simplify the following expression: 3 + 7', 'output': '10'}]\n"
     ]
    }
   ],
   "source": [
    "import torch\n",
    "import json\n",
    "import numpy as np\n",
    "\n",
    "data = []\n",
    "prompts=[\"Simplify the following expression: \", \"What is the sum of \", \"What is \", \"Answer the following expression: \", \"\"]\n",
    "\n",
    "for i in range(120):\n",
    "    new_sample = {}\n",
    "    int_1 = np.random.randint(10)\n",
    "    int_2 = np.random.randint(10)\n",
    "    prompt_choice = np.random.randint(5)\n",
    "    new_sample['instruction'] = prompts[prompt_choice] + str(int_1) + \" + \" + str(int_2)\n",
    "    new_sample['output']=str(int_1+int_2)\n",
    "    data.append(new_sample)\n",
    "    \n",
    "print(data)"
   ]
  },
  {
   "cell_type": "code",
   "execution_count": 28,
   "metadata": {},
   "outputs": [],
   "source": [
    "# Serializing json\n",
    "json_object = json.dumps(data, indent=4)\n",
    " \n",
    "# Writing to sample.json\n",
    "with open(\"./data/addition.json\", \"w\") as outfile:\n",
    "    outfile.write(json_object)"
   ]
  },
  {
   "cell_type": "code",
   "execution_count": 19,
   "metadata": {},
   "outputs": [
    {
     "name": "stdout",
     "output_type": "stream",
     "text": [
      "Answer the following expression: \n",
      "Answer the following expression: \n",
      "What is \n",
      "What is \n",
      "What is \n"
     ]
    }
   ],
   "source": [
    "\n"
   ]
  },
  {
   "cell_type": "code",
   "execution_count": null,
   "metadata": {},
   "outputs": [],
   "source": []
  }
 ],
 "metadata": {
  "kernelspec": {
   "display_name": "Python 3 (ipykernel)",
   "language": "python",
   "name": "python3"
  },
  "language_info": {
   "codemirror_mode": {
    "name": "ipython",
    "version": 3
   },
   "file_extension": ".py",
   "mimetype": "text/x-python",
   "name": "python",
   "nbconvert_exporter": "python",
   "pygments_lexer": "ipython3",
   "version": "3.10.9"
  }
 },
 "nbformat": 4,
 "nbformat_minor": 2
}
